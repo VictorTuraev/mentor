{
 "cells": [
  {
   "cell_type": "code",
   "execution_count": 38,
   "metadata": {},
   "outputs": [
    {
     "ename": "SyntaxError",
     "evalue": "invalid syntax (<ipython-input-38-037c93e67806>, line 12)",
     "output_type": "error",
     "traceback": [
      "\u001b[1;36m  File \u001b[1;32m\"<ipython-input-38-037c93e67806>\"\u001b[1;36m, line \u001b[1;32m12\u001b[0m\n\u001b[1;33m    V=V+k[i]*(xx[i]-X)/(np.sqrt((X-xx[i])**2+(Y-yy[i])**2)\u001b[0m\n\u001b[1;37m    ^\u001b[0m\n\u001b[1;31mSyntaxError\u001b[0m\u001b[1;31m:\u001b[0m invalid syntax\n"
     ]
    }
   ],
   "source": [
    "import matplotlib.pyplot as plt\n",
    "import numpy as np\n",
    "k = np.array([0.1, 6.9, 7.1])\n",
    "yy = np.array([1.1, 5.9, 2.1])\n",
    "xx = np.array([0.2, 6.7, 7.3])\n",
    "X, Y = np.meshgrid(np.arange(0, 10, 0.5), np.arange(0, 10, 0.5))\n",
    "fig1, ax1 = plt.subplots()\n",
    "U=np.empty_like(X)\n",
    "V=np.empty_like(Y)\n",
    "for i in range(3):\n",
    "    U=U-k[i]*(yy[i]-Y)/(np.sqrt((X-xx[i])**2+(Y-yy[i])**2)\n",
    "    V=V+k[i]*(xx[i]-X)/(np.sqrt((X-xx[i])**2+(Y-yy[i])**2)\n",
    "Q = ax1.quiver(X, Y, U, V)\n",
    "\n",
    " \n",
    "    \n"
   ]
  },
  {
   "cell_type": "code",
   "execution_count": 39,
   "metadata": {},
   "outputs": [
    {
     "ename": "SyntaxError",
     "evalue": "invalid syntax (<ipython-input-39-d8e1fb67fdbf>, line 4)",
     "output_type": "error",
     "traceback": [
      "\u001b[1;36m  File \u001b[1;32m\"<ipython-input-39-d8e1fb67fdbf>\"\u001b[1;36m, line \u001b[1;32m4\u001b[0m\n\u001b[1;33m    X, Y = np.meshgrid(np.arange(0, 10, 0.5), np.arange(0, 10, 0.5))\u001b[0m\n\u001b[1;37m    ^\u001b[0m\n\u001b[1;31mSyntaxError\u001b[0m\u001b[1;31m:\u001b[0m invalid syntax\n"
     ]
    }
   ],
   "source": [
    "import matplotlib.pyplot as plt\n",
    "import numpy as np\n",
    "k, xx, yy = np.meshgrid(np.array([0.1, 6.9, 7.1]), np.array([0.1, 6.9, 7.1]), np.array([0.1, 6.9, 7.1])\n",
    "X, Y = np.meshgrid(np.arange(0, 10, 0.5), np.arange(0, 10, 0.5))\n",
    "fig1, ax1 = plt.subplots()\n",
    "U=-k*(yy-Y)/((np.sqrt((X-xx)**2+(Y-yy)**2))-k*(yy-Y)*(np.sqrt((X-xx)**2+(Y-yy)**2)))\n",
    "V=k*(xx-X)/((np.sqrt((X-xx)**2+(Y-yy)**2))+k*(xx-X)*(np.sqrt((X-xx)**2+(Y-yy)**2)))\n",
    "Q = ax1.quiver(X, Y, U, V)"
   ]
  },
  {
   "cell_type": "code",
   "execution_count": null,
   "metadata": {},
   "outputs": [],
   "source": []
  }
 ],
 "metadata": {
  "kernelspec": {
   "display_name": "Python 3",
   "language": "python",
   "name": "python3"
  },
  "language_info": {
   "codemirror_mode": {
    "name": "ipython",
    "version": 3
   },
   "file_extension": ".py",
   "mimetype": "text/x-python",
   "name": "python",
   "nbconvert_exporter": "python",
   "pygments_lexer": "ipython3",
   "version": "3.7.3"
  }
 },
 "nbformat": 4,
 "nbformat_minor": 2
}
